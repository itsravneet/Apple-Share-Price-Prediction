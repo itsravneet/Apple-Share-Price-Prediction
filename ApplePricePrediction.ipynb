{
  "nbformat": 4,
  "nbformat_minor": 0,
  "metadata": {
    "colab": {
      "name": "ApplePricePrediction.ipynb",
      "provenance": []
    },
    "kernelspec": {
      "name": "python3",
      "display_name": "Python 3"
    },
    "language_info": {
      "name": "python"
    }
  },
  "cells": [
    {
      "cell_type": "code",
      "metadata": {
        "id": "BRwhSDB9G_8v"
      },
      "source": [
        "import pandas_datareader as pdr"
      ],
      "execution_count": null,
      "outputs": []
    },
    {
      "cell_type": "code",
      "metadata": {
        "id": "MyN7y0QQI2kq"
      },
      "source": [
        "df=pdr.get_data_tiingo(\"AAPL\",api_key=\"\")"
      ],
      "execution_count": null,
      "outputs": []
    },
    {
      "cell_type": "code",
      "metadata": {
        "id": "QIBTta_0Kuk4"
      },
      "source": [
        "df.to_csv('AAPL.csv')"
      ],
      "execution_count": null,
      "outputs": []
    },
    {
      "cell_type": "code",
      "metadata": {
        "colab": {
          "base_uri": "https://localhost:8080/",
          "height": 635
        },
        "id": "OsHkuauILcYh",
        "outputId": "91124df9-feb4-445f-a03a-d37cdb3893f9"
      },
      "source": [
        "df"
      ],
      "execution_count": null,
      "outputs": [
        {
          "output_type": "execute_result",
          "data": {
            "text/html": [
              "<div>\n",
              "<style scoped>\n",
              "    .dataframe tbody tr th:only-of-type {\n",
              "        vertical-align: middle;\n",
              "    }\n",
              "\n",
              "    .dataframe tbody tr th {\n",
              "        vertical-align: top;\n",
              "    }\n",
              "\n",
              "    .dataframe thead th {\n",
              "        text-align: right;\n",
              "    }\n",
              "</style>\n",
              "<table border=\"1\" class=\"dataframe\">\n",
              "  <thead>\n",
              "    <tr style=\"text-align: right;\">\n",
              "      <th></th>\n",
              "      <th></th>\n",
              "      <th>close</th>\n",
              "      <th>high</th>\n",
              "      <th>low</th>\n",
              "      <th>open</th>\n",
              "      <th>volume</th>\n",
              "      <th>adjClose</th>\n",
              "      <th>adjHigh</th>\n",
              "      <th>adjLow</th>\n",
              "      <th>adjOpen</th>\n",
              "      <th>adjVolume</th>\n",
              "      <th>divCash</th>\n",
              "      <th>splitFactor</th>\n",
              "    </tr>\n",
              "    <tr>\n",
              "      <th>symbol</th>\n",
              "      <th>date</th>\n",
              "      <th></th>\n",
              "      <th></th>\n",
              "      <th></th>\n",
              "      <th></th>\n",
              "      <th></th>\n",
              "      <th></th>\n",
              "      <th></th>\n",
              "      <th></th>\n",
              "      <th></th>\n",
              "      <th></th>\n",
              "      <th></th>\n",
              "      <th></th>\n",
              "    </tr>\n",
              "  </thead>\n",
              "  <tbody>\n",
              "    <tr>\n",
              "      <th rowspan=\"11\" valign=\"top\">AAPL</th>\n",
              "      <th>2016-08-01 00:00:00+00:00</th>\n",
              "      <td>106.05</td>\n",
              "      <td>106.1500</td>\n",
              "      <td>104.41</td>\n",
              "      <td>104.410</td>\n",
              "      <td>38167871</td>\n",
              "      <td>24.764101</td>\n",
              "      <td>24.787452</td>\n",
              "      <td>24.381139</td>\n",
              "      <td>24.381139</td>\n",
              "      <td>152671484</td>\n",
              "      <td>0.00</td>\n",
              "      <td>1.0</td>\n",
              "    </tr>\n",
              "    <tr>\n",
              "      <th>2016-08-02 00:00:00+00:00</th>\n",
              "      <td>104.48</td>\n",
              "      <td>106.0700</td>\n",
              "      <td>104.00</td>\n",
              "      <td>106.050</td>\n",
              "      <td>33816556</td>\n",
              "      <td>24.397485</td>\n",
              "      <td>24.768771</td>\n",
              "      <td>24.285399</td>\n",
              "      <td>24.764101</td>\n",
              "      <td>135266224</td>\n",
              "      <td>0.00</td>\n",
              "      <td>1.0</td>\n",
              "    </tr>\n",
              "    <tr>\n",
              "      <th>2016-08-03 00:00:00+00:00</th>\n",
              "      <td>105.79</td>\n",
              "      <td>105.8400</td>\n",
              "      <td>104.77</td>\n",
              "      <td>104.810</td>\n",
              "      <td>30202641</td>\n",
              "      <td>24.703388</td>\n",
              "      <td>24.715063</td>\n",
              "      <td>24.465204</td>\n",
              "      <td>24.474544</td>\n",
              "      <td>120810564</td>\n",
              "      <td>0.00</td>\n",
              "      <td>1.0</td>\n",
              "    </tr>\n",
              "    <tr>\n",
              "      <th>2016-08-04 00:00:00+00:00</th>\n",
              "      <td>105.87</td>\n",
              "      <td>106.0000</td>\n",
              "      <td>105.28</td>\n",
              "      <td>105.580</td>\n",
              "      <td>27408650</td>\n",
              "      <td>24.855171</td>\n",
              "      <td>24.885692</td>\n",
              "      <td>24.716657</td>\n",
              "      <td>24.787088</td>\n",
              "      <td>109634600</td>\n",
              "      <td>0.57</td>\n",
              "      <td>1.0</td>\n",
              "    </tr>\n",
              "    <tr>\n",
              "      <th>2016-08-05 00:00:00+00:00</th>\n",
              "      <td>107.48</td>\n",
              "      <td>107.6500</td>\n",
              "      <td>106.18</td>\n",
              "      <td>106.270</td>\n",
              "      <td>40553402</td>\n",
              "      <td>25.233152</td>\n",
              "      <td>25.273063</td>\n",
              "      <td>24.927950</td>\n",
              "      <td>24.949080</td>\n",
              "      <td>162213608</td>\n",
              "      <td>0.00</td>\n",
              "      <td>1.0</td>\n",
              "    </tr>\n",
              "    <tr>\n",
              "      <th>...</th>\n",
              "      <td>...</td>\n",
              "      <td>...</td>\n",
              "      <td>...</td>\n",
              "      <td>...</td>\n",
              "      <td>...</td>\n",
              "      <td>...</td>\n",
              "      <td>...</td>\n",
              "      <td>...</td>\n",
              "      <td>...</td>\n",
              "      <td>...</td>\n",
              "      <td>...</td>\n",
              "      <td>...</td>\n",
              "    </tr>\n",
              "    <tr>\n",
              "      <th>2021-07-22 00:00:00+00:00</th>\n",
              "      <td>146.80</td>\n",
              "      <td>148.1950</td>\n",
              "      <td>145.81</td>\n",
              "      <td>145.935</td>\n",
              "      <td>77338156</td>\n",
              "      <td>146.800000</td>\n",
              "      <td>148.195000</td>\n",
              "      <td>145.810000</td>\n",
              "      <td>145.935000</td>\n",
              "      <td>77338156</td>\n",
              "      <td>0.00</td>\n",
              "      <td>1.0</td>\n",
              "    </tr>\n",
              "    <tr>\n",
              "      <th>2021-07-23 00:00:00+00:00</th>\n",
              "      <td>148.56</td>\n",
              "      <td>148.7177</td>\n",
              "      <td>146.92</td>\n",
              "      <td>147.550</td>\n",
              "      <td>71447416</td>\n",
              "      <td>148.560000</td>\n",
              "      <td>148.717700</td>\n",
              "      <td>146.920000</td>\n",
              "      <td>147.550000</td>\n",
              "      <td>71447416</td>\n",
              "      <td>0.00</td>\n",
              "      <td>1.0</td>\n",
              "    </tr>\n",
              "    <tr>\n",
              "      <th>2021-07-26 00:00:00+00:00</th>\n",
              "      <td>148.99</td>\n",
              "      <td>149.8300</td>\n",
              "      <td>147.70</td>\n",
              "      <td>148.270</td>\n",
              "      <td>72434089</td>\n",
              "      <td>148.990000</td>\n",
              "      <td>149.830000</td>\n",
              "      <td>147.700000</td>\n",
              "      <td>148.270000</td>\n",
              "      <td>72434089</td>\n",
              "      <td>0.00</td>\n",
              "      <td>1.0</td>\n",
              "    </tr>\n",
              "    <tr>\n",
              "      <th>2021-07-27 00:00:00+00:00</th>\n",
              "      <td>146.77</td>\n",
              "      <td>149.2100</td>\n",
              "      <td>145.55</td>\n",
              "      <td>149.120</td>\n",
              "      <td>104818578</td>\n",
              "      <td>146.770000</td>\n",
              "      <td>149.210000</td>\n",
              "      <td>145.550000</td>\n",
              "      <td>149.120000</td>\n",
              "      <td>104818578</td>\n",
              "      <td>0.00</td>\n",
              "      <td>1.0</td>\n",
              "    </tr>\n",
              "    <tr>\n",
              "      <th>2021-07-28 00:00:00+00:00</th>\n",
              "      <td>144.98</td>\n",
              "      <td>146.9700</td>\n",
              "      <td>142.54</td>\n",
              "      <td>144.810</td>\n",
              "      <td>118931191</td>\n",
              "      <td>144.980000</td>\n",
              "      <td>146.970000</td>\n",
              "      <td>142.540000</td>\n",
              "      <td>144.810000</td>\n",
              "      <td>118931191</td>\n",
              "      <td>0.00</td>\n",
              "      <td>1.0</td>\n",
              "    </tr>\n",
              "  </tbody>\n",
              "</table>\n",
              "<p>1257 rows × 12 columns</p>\n",
              "</div>"
            ],
            "text/plain": [
              "                                   close      high  ...  divCash  splitFactor\n",
              "symbol date                                         ...                      \n",
              "AAPL   2016-08-01 00:00:00+00:00  106.05  106.1500  ...     0.00          1.0\n",
              "       2016-08-02 00:00:00+00:00  104.48  106.0700  ...     0.00          1.0\n",
              "       2016-08-03 00:00:00+00:00  105.79  105.8400  ...     0.00          1.0\n",
              "       2016-08-04 00:00:00+00:00  105.87  106.0000  ...     0.57          1.0\n",
              "       2016-08-05 00:00:00+00:00  107.48  107.6500  ...     0.00          1.0\n",
              "...                                  ...       ...  ...      ...          ...\n",
              "       2021-07-22 00:00:00+00:00  146.80  148.1950  ...     0.00          1.0\n",
              "       2021-07-23 00:00:00+00:00  148.56  148.7177  ...     0.00          1.0\n",
              "       2021-07-26 00:00:00+00:00  148.99  149.8300  ...     0.00          1.0\n",
              "       2021-07-27 00:00:00+00:00  146.77  149.2100  ...     0.00          1.0\n",
              "       2021-07-28 00:00:00+00:00  144.98  146.9700  ...     0.00          1.0\n",
              "\n",
              "[1257 rows x 12 columns]"
            ]
          },
          "metadata": {
            "tags": []
          },
          "execution_count": 23
        }
      ]
    },
    {
      "cell_type": "code",
      "metadata": {
        "id": "4VqzUHx2MpNW"
      },
      "source": [
        "#Taking only close value\n",
        "df1=df.reset_index()['close']"
      ],
      "execution_count": null,
      "outputs": []
    },
    {
      "cell_type": "code",
      "metadata": {
        "colab": {
          "base_uri": "https://localhost:8080/",
          "height": 282
        },
        "id": "72MNyG9XNLbA",
        "outputId": "47acdea7-37b1-484d-a156-d0b461eecb8e"
      },
      "source": [
        "import matplotlib.pyplot as plt\n",
        "plt.plot(df1)"
      ],
      "execution_count": null,
      "outputs": [
        {
          "output_type": "execute_result",
          "data": {
            "text/plain": [
              "[<matplotlib.lines.Line2D at 0x7f1b071eb910>]"
            ]
          },
          "metadata": {
            "tags": []
          },
          "execution_count": 31
        },
        {
          "output_type": "display_data",
          "data": {
            "image/png": "[encoded data removed]",
            "text/plain": [
              "<Figure size 432x288 with 1 Axes>"
            ]
          },
          "metadata": {
            "tags": [],
            "needs_background": "light"
          }
        }
      ]
    },
    {
      "cell_type": "code",
      "metadata": {
        "id": "PhloFsktQo8-"
      },
      "source": [
        "from sklearn.preprocessing import MinMaxScaler\n",
        "import numpy as np\n",
        "\n",
        "scaler=MinMaxScaler(feature_range=(0,1))\n",
        "df1=scaler.fit_transform(np.array(df1).reshape(-1,1))"
      ],
      "execution_count": null,
      "outputs": []
    },
    {
      "cell_type": "code",
      "metadata": {
        "colab": {
          "base_uri": "https://localhost:8080/"
        },
        "id": "uNWtfGKkT_Xl",
        "outputId": "39c8eab7-295c-483e-911d-b59ceb99f372"
      },
      "source": [
        "df1.shape"
      ],
      "execution_count": null,
      "outputs": [
        {
          "output_type": "execute_result",
          "data": {
            "text/plain": [
              "(1257, 1)"
            ]
          },
          "metadata": {
            "tags": []
          },
          "execution_count": 37
        }
      ]
    },
    {
      "cell_type": "code",
      "metadata": {
        "id": "22jRWgLsXVAX"
      },
      "source": [
        "#We will do timeseries based train test split\n",
        "train_size=int(len(df1)*0.65)\n",
        "test_size=int(len(df1)*0.35)\n",
        "train_data=df1[:train_size]\n",
        "test_data=df1[train_size:] "
      ],
      "execution_count": null,
      "outputs": []
    },
    {
      "cell_type": "code",
      "metadata": {
        "id": "bcdr-nbzYcBe"
      },
      "source": [
        "train_data=train_data.reshape(train_data.shape[0])\n",
        "test_data=test_data.reshape(test_data.shape[0])"
      ],
      "execution_count": null,
      "outputs": []
    },
    {
      "cell_type": "code",
      "metadata": {
        "colab": {
          "base_uri": "https://localhost:8080/"
        },
        "id": "-o_BLLGPohQi",
        "outputId": "026e6b8c-e0a0-4af3-95e0-e9ab9db905e3"
      },
      "source": [
        "train_data.shape"
      ],
      "execution_count": null,
      "outputs": [
        {
          "output_type": "execute_result",
          "data": {
            "text/plain": [
              "(817,)"
            ]
          },
          "metadata": {
            "tags": []
          },
          "execution_count": 46
        }
      ]
    },
    {
      "cell_type": "code",
      "metadata": {
        "id": "PW-PHffvdD-S"
      },
      "source": [
        "#creating dataset with 100 timestamp value which means we are making dataset like (0th to 99th day) price as X and 100th day price as Y\n",
        "def create_dataset(data):\n",
        "  X=[]\n",
        "  Y=[]\n",
        "  for i in range(len(data)-101):\n",
        "    X.append(data[i:i+100])\n",
        "    Y.append(data[i+101])\n",
        "  return X,Y\n",
        "X_train,Y_train=create_dataset(train_data)\n",
        "X_test,Y_test=create_dataset(test_data)"
      ],
      "execution_count": null,
      "outputs": []
    },
    {
      "cell_type": "code",
      "metadata": {
        "id": "QwC-gXGJpi5g"
      },
      "source": [
        "X_train=np.array(X_train)\n",
        "X_test=np.array(X_test)"
      ],
      "execution_count": null,
      "outputs": []
    },
    {
      "cell_type": "code",
      "metadata": {
        "colab": {
          "base_uri": "https://localhost:8080/"
        },
        "id": "6P75FG-uqEk0",
        "outputId": "81d08a70-75cf-4e6e-a3c0-f7758335e855"
      },
      "source": [
        "X_train.shape"
      ],
      "execution_count": null,
      "outputs": [
        {
          "output_type": "execute_result",
          "data": {
            "text/plain": [
              "(716, 100)"
            ]
          },
          "metadata": {
            "tags": []
          },
          "execution_count": 57
        }
      ]
    },
    {
      "cell_type": "code",
      "metadata": {
        "id": "9z72qDxQqawd"
      },
      "source": [
        "X_train=X_train.reshape(X_train.shape[0],X_train.shape[1],1)\n",
        "X_test=X_test.reshape(X_test.shape[0],X_test.shape[1],1)"
      ],
      "execution_count": null,
      "outputs": []
    },
    {
      "cell_type": "code",
      "metadata": {
        "colab": {
          "base_uri": "https://localhost:8080/"
        },
        "id": "fCdbGw1Qq1zt",
        "outputId": "1bb3af4c-efc0-41d2-f99b-ecf9220c12b8"
      },
      "source": [
        "X_train.shape"
      ],
      "execution_count": null,
      "outputs": [
        {
          "output_type": "execute_result",
          "data": {
            "text/plain": [
              "(716, 100, 1)"
            ]
          },
          "metadata": {
            "tags": []
          },
          "execution_count": 60
        }
      ]
    },
    {
      "cell_type": "code",
      "metadata": {
        "id": "9MGZ2xhQvbFJ"
      },
      "source": [
        "Y_test=np.array(Y_test)\n",
        "Y_train=np.array(Y_train)"
      ],
      "execution_count": null,
      "outputs": []
    },
    {
      "cell_type": "markdown",
      "metadata": {
        "id": "z59BUYwTq549"
      },
      "source": [
        "Modeling"
      ]
    },
    {
      "cell_type": "code",
      "metadata": {
        "id": "fhWzeePaq7OP"
      },
      "source": [
        "from  tensorflow.keras.models import Sequential\n",
        "from tensorflow.keras.layers import Dense,LSTM"
      ],
      "execution_count": null,
      "outputs": []
    },
    {
      "cell_type": "code",
      "metadata": {
        "id": "LF_6R7XAre7O"
      },
      "source": [
        "model=Sequential()\n",
        "model.add(LSTM(50,return_sequences=True,input_shape=(100,1)))\n",
        "model.add(LSTM(50,return_sequences=True,activation='relu'))\n",
        "model.add(LSTM(50))\n",
        "model.add(Dense(1))\n",
        "model.compile(loss='mean_squared_error',optimizer='adam')"
      ],
      "execution_count": null,
      "outputs": []
    },
    {
      "cell_type": "code",
      "metadata": {
        "colab": {
          "base_uri": "https://localhost:8080/"
        },
        "id": "4ZBpuoSNvHfB",
        "outputId": "a9113d95-dca6-47d8-8a39-a1263693f59c"
      },
      "source": [
        "model.summary()"
      ],
      "execution_count": null,
      "outputs": [
        {
          "output_type": "stream",
          "text": [
            "Model: \"sequential_1\"\n",
            "_________________________________________________________________\n",
            "Layer (type)                 Output Shape              Param #   \n",
            "=================================================================\n",
            "lstm_3 (LSTM)                (None, 100, 50)           10400     \n",
            "_________________________________________________________________\n",
            "lstm_4 (LSTM)                (None, 100, 50)           20200     \n",
            "_________________________________________________________________\n",
            "lstm_5 (LSTM)                (None, 50)                20200     \n",
            "_________________________________________________________________\n",
            "dense_1 (Dense)              (None, 1)                 51        \n",
            "=================================================================\n",
            "Total params: 50,851\n",
            "Trainable params: 50,851\n",
            "Non-trainable params: 0\n",
            "_________________________________________________________________\n"
          ],
          "name": "stdout"
        }
      ]
    },
    {
      "cell_type": "code",
      "metadata": {
        "colab": {
          "base_uri": "https://localhost:8080/"
        },
        "id": "SYg09itqvKeX",
        "outputId": "4df14388-21b8-4caf-941c-87212f7ad2a9"
      },
      "source": [
        "model.fit(X_train,Y_train,validation_data=(X_test,Y_test),epochs=20,batch_size=64,verbose=1)"
      ],
      "execution_count": null,
      "outputs": [
        {
          "output_type": "stream",
          "text": [
            "Epoch 1/20\n",
            "12/12 [==============================] - 2s 195ms/step - loss: 1.1242e-04 - val_loss: 0.0362\n",
            "Epoch 2/20\n",
            "12/12 [==============================] - 2s 195ms/step - loss: 1.1189e-04 - val_loss: 0.0403\n",
            "Epoch 3/20\n",
            "12/12 [==============================] - 2s 197ms/step - loss: 1.1203e-04 - val_loss: 0.0341\n",
            "Epoch 4/20\n",
            "12/12 [==============================] - 2s 196ms/step - loss: 1.1011e-04 - val_loss: 0.0533\n",
            "Epoch 5/20\n",
            "12/12 [==============================] - 2s 194ms/step - loss: 1.3161e-04 - val_loss: 0.0246\n",
            "Epoch 6/20\n",
            "12/12 [==============================] - 2s 199ms/step - loss: 1.2550e-04 - val_loss: 0.0345\n",
            "Epoch 7/20\n",
            "12/12 [==============================] - 2s 196ms/step - loss: 1.7851e-04 - val_loss: 0.0430\n",
            "Epoch 8/20\n",
            "12/12 [==============================] - 2s 196ms/step - loss: 1.2115e-04 - val_loss: 0.0244\n",
            "Epoch 9/20\n",
            "12/12 [==============================] - 2s 196ms/step - loss: 1.1786e-04 - val_loss: 0.0326\n",
            "Epoch 10/20\n",
            "12/12 [==============================] - 2s 200ms/step - loss: 1.2059e-04 - val_loss: 0.0325\n",
            "Epoch 11/20\n",
            "12/12 [==============================] - 2s 195ms/step - loss: 1.1656e-04 - val_loss: 0.0359\n",
            "Epoch 12/20\n",
            "12/12 [==============================] - 2s 196ms/step - loss: 1.1469e-04 - val_loss: 0.0324\n",
            "Epoch 13/20\n",
            "12/12 [==============================] - 2s 199ms/step - loss: 1.1598e-04 - val_loss: 0.0343\n",
            "Epoch 14/20\n",
            "12/12 [==============================] - 2s 197ms/step - loss: 1.0608e-04 - val_loss: 0.0232\n",
            "Epoch 15/20\n",
            "12/12 [==============================] - 2s 198ms/step - loss: 1.2073e-04 - val_loss: 0.0408\n",
            "Epoch 16/20\n",
            "12/12 [==============================] - 2s 197ms/step - loss: 1.1447e-04 - val_loss: 0.0261\n",
            "Epoch 17/20\n",
            "12/12 [==============================] - 2s 195ms/step - loss: 1.1000e-04 - val_loss: 0.0399\n",
            "Epoch 18/20\n",
            "12/12 [==============================] - 2s 197ms/step - loss: 1.0504e-04 - val_loss: 0.0516\n",
            "Epoch 19/20\n",
            "12/12 [==============================] - 2s 198ms/step - loss: 1.2617e-04 - val_loss: 0.0375\n",
            "Epoch 20/20\n",
            "12/12 [==============================] - 2s 198ms/step - loss: 1.0789e-04 - val_loss: 0.0453\n"
          ],
          "name": "stdout"
        },
        {
          "output_type": "execute_result",
          "data": {
            "text/plain": [
              "<tensorflow.python.keras.callbacks.History at 0x7f1aaafafe90>"
            ]
          },
          "metadata": {
            "tags": []
          },
          "execution_count": 97
        }
      ]
    },
    {
      "cell_type": "code",
      "metadata": {
        "id": "7gXOHB4Kvodo"
      },
      "source": [
        "train_predict=model.predict(X_train)\n",
        "test_predict=model.predict(X_test)"
      ],
      "execution_count": null,
      "outputs": []
    },
    {
      "cell_type": "code",
      "metadata": {
        "colab": {
          "base_uri": "https://localhost:8080/"
        },
        "id": "sWt4jxt65t9u",
        "outputId": "1516650f-4c4d-4a67-d880-f71f36bedb73"
      },
      "source": [
        "Y_train.shape"
      ],
      "execution_count": null,
      "outputs": [
        {
          "output_type": "execute_result",
          "data": {
            "text/plain": [
              "(716,)"
            ]
          },
          "metadata": {
            "tags": []
          },
          "execution_count": 84
        }
      ]
    },
    {
      "cell_type": "code",
      "metadata": {
        "id": "p0B1hP8-x4WL"
      },
      "source": [
        "train_predict=scaler.inverse_transform(train_predict)\n",
        "test_predict=scaler.inverse_transform(test_predict)"
      ],
      "execution_count": null,
      "outputs": []
    },
    {
      "cell_type": "code",
      "metadata": {
        "id": "X9Q22dH4yOtq"
      },
      "source": [
        "import math\n",
        "from sklearn.metrics import mean_squared_error\n"
      ],
      "execution_count": null,
      "outputs": []
    },
    {
      "cell_type": "code",
      "metadata": {
        "colab": {
          "base_uri": "https://localhost:8080/"
        },
        "id": "PEd4KWSTyqxu",
        "outputId": "12c8897b-6e9b-4c61-90bf-2b0d3e79a2a1"
      },
      "source": [
        "train_predict[0]"
      ],
      "execution_count": null,
      "outputs": [
        {
          "output_type": "execute_result",
          "data": {
            "text/plain": [
              "array([114.76955], dtype=float32)"
            ]
          },
          "metadata": {
            "tags": []
          },
          "execution_count": 89
        }
      ]
    },
    {
      "cell_type": "code",
      "metadata": {
        "colab": {
          "base_uri": "https://localhost:8080/"
        },
        "id": "msz6_oy1yXNc",
        "outputId": "cfc675dd-dc4b-4c60-9ae2-95cd44fabb4b"
      },
      "source": [
        "math.sqrt(mean_squared_error(Y_train,train_predict))"
      ],
      "execution_count": null,
      "outputs": [
        {
          "output_type": "execute_result",
          "data": {
            "text/plain": [
              "178.12864114547648"
            ]
          },
          "metadata": {
            "tags": []
          },
          "execution_count": 87
        }
      ]
    },
    {
      "cell_type": "code",
      "metadata": {
        "colab": {
          "base_uri": "https://localhost:8080/"
        },
        "id": "LURgKx35597z",
        "outputId": "c1d00ad9-3558-438d-d9ac-67dc1a2988d0"
      },
      "source": [
        "math.sqrt(mean_squared_error(Y_test,test_predict))"
      ],
      "execution_count": null,
      "outputs": [
        {
          "output_type": "execute_result",
          "data": {
            "text/plain": [
              "266.0486691395515"
            ]
          },
          "metadata": {
            "tags": []
          },
          "execution_count": 88
        }
      ]
    },
    {
      "cell_type": "markdown",
      "metadata": {
        "id": "DUYWHB6i6Kme"
      },
      "source": [
        "Plotting Graph"
      ]
    },
    {
      "cell_type": "code",
      "metadata": {
        "colab": {
          "base_uri": "https://localhost:8080/",
          "height": 282
        },
        "id": "ZJSj_9lz69DI",
        "outputId": "804cd950-59e3-40b1-f985-0fc9a9ec2d3b"
      },
      "source": [
        "import matplotlib.pyplot as plt\n",
        "plt.plot(scaler.inverse_transform(df1))"
      ],
      "execution_count": null,
      "outputs": [
        {
          "output_type": "execute_result",
          "data": {
            "text/plain": [
              "[<matplotlib.lines.Line2D at 0x7f1aab04f050>]"
            ]
          },
          "metadata": {
            "tags": []
          },
          "execution_count": 96
        },
        {
          "output_type": "display_data",
          "data": {
            "image/png": "[encoded data removed]",
            "text/plain": [
              "<Figure size 432x288 with 1 Axes>"
            ]
          },
          "metadata": {
            "tags": [],
            "needs_background": "light"
          }
        }
      ]
    },
    {
      "cell_type": "code",
      "metadata": {
        "colab": {
          "base_uri": "https://localhost:8080/",
          "height": 269
        },
        "id": "lzSyu5qq6D2s",
        "outputId": "34116d0b-cfad-47e1-bd23-8cc4de3ca806"
      },
      "source": [
        "look_back=100\n",
        "trainPredictPlot = np.empty_like(df1)\n",
        "trainPredictPlot[:, :] = np.nan\n",
        "trainPredictPlot[look_back:len(train_predict)+look_back, :] = train_predict\n",
        "# shift test predictions for plotting\n",
        "testPredictPlot = np.empty_like(df1)\n",
        "testPredictPlot[:, :] = np.nan\n",
        "testPredictPlot[len(train_predict)+(look_back*2)+1:len(df1)-1, :] = test_predict\n",
        "# plot baseline and predictions\n",
        "plt.plot(scaler.inverse_transform(df1),color=\"blue\",label=\"Orignal\")\n",
        "plt.plot(trainPredictPlot,color=\"green\",label=\"Train\")\n",
        "plt.plot(testPredictPlot,color=\"red\",label=\"Test\")\n",
        "plt.legend()\n",
        "plt.show()"
      ],
      "execution_count": null,
      "outputs": [
        {
          "output_type": "display_data",
          "data": {
            "image/png": "[encoded data removed]",
            "text/plain": [
              "<Figure size 432x288 with 1 Axes>"
            ]
          },
          "metadata": {
            "tags": [],
            "needs_background": "light"
          }
        }
      ]
    }
  ]
}